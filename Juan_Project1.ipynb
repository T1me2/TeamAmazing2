{
 "cells": [
  {
   "cell_type": "code",
   "execution_count": null,
   "id": "3c6e71d8",
   "metadata": {},
   "outputs": [],
   "source": [
    "import os\n",
    "# from os import path\n",
    "\n",
    "# Module for reading CSV files\n",
    "import matplotlib.pyplot as plt\n",
    "import pandas as pd\n",
    "import numpy as np\n",
    "import requests\n",
    "import time\n",
    "from scipy.stats import linregress\n",
    "from pprint import pprint\n",
    "\n",
    "All_accident = '/users/juanmarin/desktop/Resources/US_Accidents_Dec21_updated.csv'\n",
    "All_accident_data = pd.read_csv(All_accident)\n",
    "\n",
    "All_accident_data.head()\n"
   ]
  },
  {
   "cell_type": "code",
   "execution_count": null,
   "id": "713b9998",
   "metadata": {},
   "outputs": [],
   "source": [
    "All_accident_data['year'] = All_accident_data[\"Start_Time\"].str[:4]\n",
    "All_accident_data.head()\n"
   ]
  },
  {
   "cell_type": "code",
   "execution_count": null,
   "id": "05754624",
   "metadata": {},
   "outputs": [],
   "source": [
    "AccidentData_2021 = All_accident_data.loc[All_accident_data['year']== \"2021\"]\n",
    "AccidentData_2021.count()\n"
   ]
  },
  {
   "cell_type": "code",
   "execution_count": null,
   "id": "52e152ff",
   "metadata": {},
   "outputs": [],
   "source": [
    "AccidentData_2021 = AccidentData_2021.drop(columns=[\"Astronomical_Twilight\",\"Nautical_Twilight\", \"Civil_Twilight\", \\\n",
    "                                           \"Turning_Loop\", \"Traffic_Signal\", \"Traffic_Calming\",\\\n",
    "                                           \"Stop\", \"Station\", \"Roundabout\", \"Railway\", \"Amenity\",\\\n",
    "                                           \"No_Exit\", \"Junction\", \"Give_Way\", \"Crossing\", \"Bump\", \\\n",
    "                                           \"Pressure(in)\", \"Wind_Direction\", \"Airport_Code\", \"Timezone\",\\\n",
    "                                           \"Description\"])\n",
    "AccidentData_2021.head()"
   ]
  },
  {
   "cell_type": "code",
   "execution_count": null,
   "id": "442a5389",
   "metadata": {},
   "outputs": [],
   "source": []
  },
  {
   "cell_type": "code",
   "execution_count": null,
   "id": "25877413",
   "metadata": {},
   "outputs": [],
   "source": [
    "AccidentData_2021['month'] = AccidentData_2021[\"Start_Time\"].str[5:7]\n",
    "AccidentData_2021.head()"
   ]
  },
  {
   "cell_type": "code",
   "execution_count": null,
   "id": "b41ff390",
   "metadata": {},
   "outputs": [],
   "source": [
    "#AccidentData_2021.plot.scatter(x = 'ID', y = 'month')\n",
    "#plt.show()"
   ]
  },
  {
   "cell_type": "code",
   "execution_count": null,
   "id": "2d8002a9",
   "metadata": {},
   "outputs": [],
   "source": []
  }
 ],
 "metadata": {
  "kernelspec": {
   "display_name": "Python 3 (ipykernel)",
   "language": "python",
   "name": "python3"
  },
  "language_info": {
   "codemirror_mode": {
    "name": "ipython",
    "version": 3
   },
   "file_extension": ".py",
   "mimetype": "text/x-python",
   "name": "python",
   "nbconvert_exporter": "python",
   "pygments_lexer": "ipython3",
   "version": "3.9.12"
  }
 },
 "nbformat": 4,
 "nbformat_minor": 5
}
